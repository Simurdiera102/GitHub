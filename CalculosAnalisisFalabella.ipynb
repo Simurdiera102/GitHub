{
 "cells": [
  {
   "cell_type": "code",
   "execution_count": 1,
   "id": "ee45baa3-42dc-447e-8c89-8caa7362918c",
   "metadata": {},
   "outputs": [],
   "source": [
    "import pandas as pd\n"
   ]
  },
  {
   "cell_type": "code",
   "execution_count": 2,
   "id": "2b5f1cfa-b6c8-4172-b1b6-2a001af13758",
   "metadata": {},
   "outputs": [
    {
     "data": {
      "text/html": [
       "<div>\n",
       "<style scoped>\n",
       "    .dataframe tbody tr th:only-of-type {\n",
       "        vertical-align: middle;\n",
       "    }\n",
       "\n",
       "    .dataframe tbody tr th {\n",
       "        vertical-align: top;\n",
       "    }\n",
       "\n",
       "    .dataframe thead th {\n",
       "        text-align: right;\n",
       "    }\n",
       "</style>\n",
       "<table border=\"1\" class=\"dataframe\">\n",
       "  <thead>\n",
       "    <tr style=\"text-align: right;\">\n",
       "      <th></th>\n",
       "      <th>web-scraper-order</th>\n",
       "      <th>web-scraper-start-url</th>\n",
       "      <th>producto</th>\n",
       "      <th>producto-href</th>\n",
       "      <th>marca</th>\n",
       "      <th>nombre</th>\n",
       "      <th>precio</th>\n",
       "      <th>capacidad</th>\n",
       "    </tr>\n",
       "  </thead>\n",
       "  <tbody>\n",
       "    <tr>\n",
       "      <th>0</th>\n",
       "      <td>1670952770-201</td>\n",
       "      <td>https://www.falabella.com.co/falabella-co/cate...</td>\n",
       "      <td>NaN</td>\n",
       "      <td>https://www.falabella.com.co/falabella-co/prod...</td>\n",
       "      <td>Baby Shark</td>\n",
       "      <td>Carpa Igloo Baby Shark</td>\n",
       "      <td>$  132.930 (Precio final)</td>\n",
       "      <td>NaN</td>\n",
       "    </tr>\n",
       "    <tr>\n",
       "      <th>1</th>\n",
       "      <td>1670952775-202</td>\n",
       "      <td>https://www.falabella.com.co/falabella-co/cate...</td>\n",
       "      <td>NaN</td>\n",
       "      <td>https://www.falabella.com.co/falabella-co/prod...</td>\n",
       "      <td>NTK</td>\n",
       "      <td>Carpa Panda 2 Verde</td>\n",
       "      <td>$  213.220</td>\n",
       "      <td>2 personas</td>\n",
       "    </tr>\n",
       "    <tr>\n",
       "      <th>2</th>\n",
       "      <td>1670952779-203</td>\n",
       "      <td>https://www.falabella.com.co/falabella-co/cate...</td>\n",
       "      <td>NaN</td>\n",
       "      <td>https://www.falabella.com.co/falabella-co/prod...</td>\n",
       "      <td>Ferrino</td>\n",
       "      <td>Carpa Tenere 3 Personas Ferrino Verde</td>\n",
       "      <td>$  1.089.000</td>\n",
       "      <td>3 personas</td>\n",
       "    </tr>\n",
       "    <tr>\n",
       "      <th>3</th>\n",
       "      <td>1670952782-204</td>\n",
       "      <td>https://www.falabella.com.co/falabella-co/cate...</td>\n",
       "      <td>NaN</td>\n",
       "      <td>https://www.falabella.com.co/falabella-co/prod...</td>\n",
       "      <td>Coleman</td>\n",
       "      <td>Carpa Coleman Doble Tendido Tienda Campaña Tulum</td>\n",
       "      <td>$  501.990 (Precio final)</td>\n",
       "      <td>6 personas</td>\n",
       "    </tr>\n",
       "    <tr>\n",
       "      <th>4</th>\n",
       "      <td>1670952786-205</td>\n",
       "      <td>https://www.falabella.com.co/falabella-co/cate...</td>\n",
       "      <td>NaN</td>\n",
       "      <td>https://www.falabella.com.co/falabella-co/prod...</td>\n",
       "      <td>Coleman</td>\n",
       "      <td>Carpa Coleman Doble Tendido Tienda Campaña Ama...</td>\n",
       "      <td>$  426.990 (Precio final)</td>\n",
       "      <td>4 personas</td>\n",
       "    </tr>\n",
       "  </tbody>\n",
       "</table>\n",
       "</div>"
      ],
      "text/plain": [
       "  web-scraper-order                              web-scraper-start-url  \\\n",
       "0    1670952770-201  https://www.falabella.com.co/falabella-co/cate...   \n",
       "1    1670952775-202  https://www.falabella.com.co/falabella-co/cate...   \n",
       "2    1670952779-203  https://www.falabella.com.co/falabella-co/cate...   \n",
       "3    1670952782-204  https://www.falabella.com.co/falabella-co/cate...   \n",
       "4    1670952786-205  https://www.falabella.com.co/falabella-co/cate...   \n",
       "\n",
       "   producto                                      producto-href       marca  \\\n",
       "0       NaN  https://www.falabella.com.co/falabella-co/prod...  Baby Shark   \n",
       "1       NaN  https://www.falabella.com.co/falabella-co/prod...         NTK   \n",
       "2       NaN  https://www.falabella.com.co/falabella-co/prod...     Ferrino   \n",
       "3       NaN  https://www.falabella.com.co/falabella-co/prod...     Coleman   \n",
       "4       NaN  https://www.falabella.com.co/falabella-co/prod...     Coleman   \n",
       "\n",
       "                                              nombre  \\\n",
       "0                             Carpa Igloo Baby Shark   \n",
       "1                                Carpa Panda 2 Verde   \n",
       "2              Carpa Tenere 3 Personas Ferrino Verde   \n",
       "3   Carpa Coleman Doble Tendido Tienda Campaña Tulum   \n",
       "4  Carpa Coleman Doble Tendido Tienda Campaña Ama...   \n",
       "\n",
       "                      precio   capacidad  \n",
       "0  $  132.930 (Precio final)         NaN  \n",
       "1                 $  213.220  2 personas  \n",
       "2               $  1.089.000  3 personas  \n",
       "3  $  501.990 (Precio final)  6 personas  \n",
       "4  $  426.990 (Precio final)  4 personas  "
      ]
     },
     "execution_count": 2,
     "metadata": {},
     "output_type": "execute_result"
    }
   ],
   "source": [
    "data = pd.read_csv('C:\\\\Users\\\\Simur\\\\Documents\\\\GitHub\\\\Data Analysis\\\\falabellacarpasPrueba - Web Scraping.csv')\n",
    "data.head()"
   ]
  },
  {
   "cell_type": "code",
   "execution_count": 3,
   "id": "cc9e27e2-897b-4327-b43b-fda53598020d",
   "metadata": {},
   "outputs": [
    {
     "name": "stdout",
     "output_type": "stream",
     "text": [
      "  web-scraper-order                              web-scraper-start-url  \\\n",
      "0    1670952770-201  https://www.falabella.com.co/falabella-co/cate...   \n",
      "1    1670952775-202  https://www.falabella.com.co/falabella-co/cate...   \n",
      "2    1670952779-203  https://www.falabella.com.co/falabella-co/cate...   \n",
      "3    1670952782-204  https://www.falabella.com.co/falabella-co/cate...   \n",
      "4    1670952786-205  https://www.falabella.com.co/falabella-co/cate...   \n",
      "5    1670952788-206  https://www.falabella.com.co/falabella-co/cate...   \n",
      "\n",
      "   producto                                      producto-href       marca  \\\n",
      "0       NaN  https://www.falabella.com.co/falabella-co/prod...  Baby Shark   \n",
      "1       NaN  https://www.falabella.com.co/falabella-co/prod...         NTK   \n",
      "2       NaN  https://www.falabella.com.co/falabella-co/prod...     Ferrino   \n",
      "3       NaN  https://www.falabella.com.co/falabella-co/prod...     Coleman   \n",
      "4       NaN  https://www.falabella.com.co/falabella-co/prod...     Coleman   \n",
      "5       NaN  https://www.falabella.com.co/falabella-co/prod...     Ferrino   \n",
      "\n",
      "                                              nombre  \\\n",
      "0                             Carpa Igloo Baby Shark   \n",
      "1                                Carpa Panda 2 Verde   \n",
      "2              Carpa Tenere 3 Personas Ferrino Verde   \n",
      "3   Carpa Coleman Doble Tendido Tienda Campaña Tulum   \n",
      "4  Carpa Coleman Doble Tendido Tienda Campaña Ama...   \n",
      "5  Carpa Ferrino Force 2 P 3 Estaciones ¿ Verde O...   \n",
      "\n",
      "                      precio   capacidad  \n",
      "0  $  132.930 (Precio final)         NaN  \n",
      "1                 $  213.220  2 personas  \n",
      "2               $  1.089.000  3 personas  \n",
      "3  $  501.990 (Precio final)  6 personas  \n",
      "4  $  426.990 (Precio final)  4 personas  \n",
      "5               $  1.455.000  2 personas  \n"
     ]
    }
   ],
   "source": [
    "#Enlista las primeras 6 filas de cada categoria\n",
    "print(data[:6])"
   ]
  },
  {
   "cell_type": "code",
   "execution_count": 4,
   "id": "b536be2f-7536-4b49-b639-df4ade03af31",
   "metadata": {},
   "outputs": [
    {
     "name": "stdout",
     "output_type": "stream",
     "text": [
      "web-scraper-order                                           1670952770-201\n",
      "web-scraper-start-url    https://www.falabella.com.co/falabella-co/cate...\n",
      "producto                                                               NaN\n",
      "producto-href            https://www.falabella.com.co/falabella-co/prod...\n",
      "marca                                                           Baby Shark\n",
      "nombre                                              Carpa Igloo Baby Shark\n",
      "precio                                           $  132.930 (Precio final)\n",
      "capacidad                                                              NaN\n",
      "Name: 0, dtype: object\n"
     ]
    }
   ],
   "source": [
    "#Enlista la primera fila \n",
    "print(data.loc[0])"
   ]
  },
  {
   "cell_type": "code",
   "execution_count": 5,
   "id": "0c61c24d-c0b7-4ae9-ad72-e8a5c7be9332",
   "metadata": {},
   "outputs": [
    {
     "name": "stdout",
     "output_type": "stream",
     "text": [
      "                                               nombre  \\\n",
      "0                              Carpa Igloo Baby Shark   \n",
      "1                                 Carpa Panda 2 Verde   \n",
      "2               Carpa Tenere 3 Personas Ferrino Verde   \n",
      "3    Carpa Coleman Doble Tendido Tienda Campaña Tulum   \n",
      "4   Carpa Coleman Doble Tendido Tienda Campaña Ama...   \n",
      "5   Carpa Ferrino Force 2 P 3 Estaciones ¿ Verde O...   \n",
      "6    Carpa Toldo 3X4.5 Plegable Reforzado Impermeable   \n",
      "7                            Carpa Fox 5 a 6 personas   \n",
      "8   Toldo Carpa Plegable Reforzado 3X3 Impermeable...   \n",
      "9                                 Carpa Panda 4 Verde   \n",
      "10                                Carpa Panda 3 Verde   \n",
      "11  Carpa Toldo 3X6 Plegable Reforzado Impermeable...   \n",
      "12                        Carpa Iglú Panda 2 Personas   \n",
      "13       Carpa Ferrino Lightent Pro 3 Personas ¿ Gris   \n",
      "14              Carpa Iglú Cherokee GT 2/3 3 personas   \n",
      "15             Carpa Doble Tendido  Viaje  4 Personas   \n",
      "16                          Carpa Savannah 9 personas   \n",
      "17  Carpa Coleman Doble Tendido Tienda Campaña Ama...   \n",
      "18  Carpa Camping Kilimanjaro Montaña 6 personas 1...   \n",
      "19      Carpa Atacama Dome Tres Estaciones 4 Personas   \n",
      "20  Carpa Camping Tienda De Campaña Ecology 2 Pers...   \n",
      "21  Carpa Toldo 2X2 Plegable Reforzado Impermeable...   \n",
      "22  Carpa Toldo 3X6 Plegable Reforzado Impermeable...   \n",
      "23  Toldo Carpa Plegable Reforzado 3X4.5 Impermeab...   \n",
      "24                     Carpa Iglú Indy 4/5 5 personas   \n",
      "25                                     Carpa Flex LOL   \n",
      "26             Carpa Doble Tendido Coleman 6 Personas   \n",
      "27                                        Carpa Igloo   \n",
      "28                             Carpa Kongo 3 personas   \n",
      "29                            Carpa 901250 2 personas   \n",
      "30   Carpa Coleman Doble Tendido Tienda Campaña Tulum   \n",
      "31             Carpa Doble Tendido Viaje - 2 Personas   \n",
      "32                             Carpa Panda 4 personas   \n",
      "33                       Carpa Skadar Jeep 2 Personas   \n",
      "34  Carpa camping para 2 personas mosquitero portátil   \n",
      "35                                       Carpa Teepee   \n",
      "36  Carpa Camping Tienda De Campaña Ecology 4 Pers...   \n",
      "37  Carpa Camping Mayon 6 personas 1000mm Playera ...   \n",
      "38   Carpa Toldo 3X4.5 Plegable Reforzado Impermeable   \n",
      "39  Carpa Camping Playera 2 personas 350 mm Paravi...   \n",
      "40  Carpa Camping Rainbow 6 personas 2000mm con So...   \n",
      "41   Carpa Coleman Doble Tendido Tienda Campaña Tulum   \n",
      "42                       Carpa Skadar Jeep 4 Personas   \n",
      "43  Carpa Camping Iglu 4 personas con Sobrecarpa 8...   \n",
      "44  Carpa Coleman Doble Tendido Tienda Campaña Ama...   \n",
      "45  Carpa Camping Maurice 8 personas con Sobrecarp...   \n",
      "46                                         Carpa Flex   \n",
      "47  Carpa Camping Iglú 2 personas con sobrecarpa 8...   \n",
      "\n",
      "                       precio  \n",
      "0   $  132.930 (Precio final)  \n",
      "1                  $  213.220  \n",
      "2                $  1.089.000  \n",
      "3   $  501.990 (Precio final)  \n",
      "4   $  426.990 (Precio final)  \n",
      "5                $  1.455.000  \n",
      "6   $  399.000 (Precio final)  \n",
      "7                  $  378.900  \n",
      "8   $  324.900 (Precio final)  \n",
      "9                  $  257.389  \n",
      "10                 $  225.530  \n",
      "11  $  589.000 (Precio final)  \n",
      "12                 $  213.220  \n",
      "13               $  1.424.000  \n",
      "14                 $  724.416  \n",
      "15  $  329.990 (Precio final)  \n",
      "16               $  2.195.867  \n",
      "17  $  588.900 (Precio final)  \n",
      "18                 $  519.990  \n",
      "19  $  445.990 (Precio final)  \n",
      "20                 $  133.990  \n",
      "21  $  349.900 (Precio final)  \n",
      "22  $  699.000 (Precio final)  \n",
      "23  $  399.900 (Precio final)  \n",
      "24               $  1.383.397  \n",
      "25   $  71.450 (Precio final)  \n",
      "26  $  539.990 (Precio final)  \n",
      "27  $  118.930 (Precio final)  \n",
      "28                 $  169.017  \n",
      "29              $  14.201.000  \n",
      "30  $  331.990 (Precio final)  \n",
      "31  $  225.000 (Precio final)  \n",
      "32                 $  257.389  \n",
      "33                 $  255.990  \n",
      "34                 $  127.400  \n",
      "35  $  118.930 (Precio final)  \n",
      "36  $  144.490 (Precio final)  \n",
      "37                 $  495.990  \n",
      "38  $  499.000 (Precio final)  \n",
      "39                  $  79.990  \n",
      "40                 $  879.990  \n",
      "41                 $  199.990  \n",
      "42                 $  287.990  \n",
      "43                 $  239.990  \n",
      "44  $  284.900 (Precio final)  \n",
      "45                 $  679.990  \n",
      "46   $  77.940 (Precio final)  \n",
      "47                 $  179.990  \n"
     ]
    }
   ],
   "source": [
    "#Enlista solo los datos que introduzcamos\n",
    "print(data[['nombre','precio']])"
   ]
  },
  {
   "cell_type": "code",
   "execution_count": 6,
   "id": "c86bfeec-3387-4e20-97dc-e835a51011b5",
   "metadata": {},
   "outputs": [
    {
     "ename": "TypeError",
     "evalue": "unsupported operand type(s) for +: 'int' and 'str'",
     "output_type": "error",
     "traceback": [
      "\u001b[1;31m---------------------------------------------------------------------------\u001b[0m",
      "\u001b[1;31mTypeError\u001b[0m                                 Traceback (most recent call last)",
      "Cell \u001b[1;32mIn[6], line 2\u001b[0m\n\u001b[0;32m      1\u001b[0m \u001b[38;5;66;03m#Suma de la columna precio\u001b[39;00m\n\u001b[1;32m----> 2\u001b[0m \u001b[38;5;28mprint\u001b[39m(\u001b[38;5;28;43msum\u001b[39;49m\u001b[43m(\u001b[49m\u001b[43mdata\u001b[49m\u001b[43m[\u001b[49m\u001b[38;5;124;43m'\u001b[39;49m\u001b[38;5;124;43mprecio\u001b[39;49m\u001b[38;5;124;43m'\u001b[39;49m\u001b[43m]\u001b[49m\u001b[43m)\u001b[49m)\n",
      "\u001b[1;31mTypeError\u001b[0m: unsupported operand type(s) for +: 'int' and 'str'"
     ]
    }
   ],
   "source": [
    "#Suma de la columna precio (Deben estar en el mismo formato para ejecutarse correctamente)\n",
    "print(sum(data['precio']))"
   ]
  },
  {
   "cell_type": "code",
   "execution_count": 7,
   "id": "bd800c50-417a-4d7f-bfea-9e066bfe77a6",
   "metadata": {},
   "outputs": [
    {
     "name": "stdout",
     "output_type": "stream",
     "text": [
      "producto   NaN\n",
      "dtype: float64\n"
     ]
    },
    {
     "name": "stderr",
     "output_type": "stream",
     "text": [
      "C:\\Users\\Simur\\AppData\\Local\\Temp\\ipykernel_11920\\738774865.py:2: FutureWarning: The default value of numeric_only in DataFrame.mean is deprecated. In a future version, it will default to False. In addition, specifying 'numeric_only=None' is deprecated. Select only valid columns or specify the value of numeric_only to silence this warning.\n",
      "  print(data.mean())\n"
     ]
    }
   ],
   "source": [
    "#Promedio de las columnas numericas (Hacer tratamiento de datos para transformar la informacion)\n",
    "print(data.mean())"
   ]
  },
  {
   "cell_type": "code",
   "execution_count": null,
   "id": "fcd5e729-7d1c-4634-9321-1cd2d62714e1",
   "metadata": {},
   "outputs": [],
   "source": []
  }
 ],
 "metadata": {
  "kernelspec": {
   "display_name": "Python 3 (ipykernel)",
   "language": "python",
   "name": "python3"
  },
  "language_info": {
   "codemirror_mode": {
    "name": "ipython",
    "version": 3
   },
   "file_extension": ".py",
   "mimetype": "text/x-python",
   "name": "python",
   "nbconvert_exporter": "python",
   "pygments_lexer": "ipython3",
   "version": "3.10.6"
  }
 },
 "nbformat": 4,
 "nbformat_minor": 5
}
